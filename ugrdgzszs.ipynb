{
 "cells": [
  {
   "cell_type": "code",
   "execution_count": null,
   "id": "52378187-fd10-471c-abec-5d0d18e42af1",
   "metadata": {},
   "outputs": [],
   "source": [
    "# Import necessary libraries\n",
    "import pandas as pd\n",
    "from sklearn.model_selection import train_test_split\n",
    "from sklearn.linear_model import LinearRegression\n",
    "from sklearn.preprocessing import LabelEncoder\n",
    "from sklearn.metrics import mean_squared_error, r2_score\n",
    "\n",
    "# Step 1: Read the data from CSV file\n",
    "data = pd.read_csv(r\"C:\\Users\\manohar\\OneDrive\\Desktop\\seshu ml proj\\lung cancer survey.csv\")\n",
    "\n",
    "# Step 2: Preprocess the data (encoding the 'LUNG_CANCER' target variable)\n",
    "data['LUNG_CANCER'] = LabelEncoder().fit_transform(data['LUNG_CANCER'])\n",
    "\n",
    "# Convert categorical variables (like 'GENDER') to numerical\n",
    "X = pd.get_dummies(data.drop(columns='LUNG_CANCER'), drop_first=True)\n",
    "y = data['LUNG_CANCER']\n",
    "\n",
    "# Step 3: Split the dataset into training and testing sets\n",
    "X_train, X_test, y_train, y_test = train_test_split(X, y, test_size=0.2, random_state=42)\n",
    "\n",
    "# Step 4: Train a Linear Regression model\n",
    "linear_model = LinearRegression()\n",
    "linear_model.fit(X_train, y_train)\n",
    "\n",
    "# Step 5: Make predictions and evaluate the model\n",
    "y_pred = linear_model.predict(X_test)\n",
    "\n",
    "# Evaluate the model using mean squared error and R2 score\n",
    "mse = mean_squared_error(y_test, y_pred)\n",
    "r2 = r2_score(y_test, y_pred)\n",
    "\n",
    "# Output the evaluation results\n",
    "mse, r2\n"
   ]
  },
  {
   "cell_type": "code",
   "execution_count": 4,
   "id": "7e66769d-c82c-4459-9800-c67adf784f2d",
   "metadata": {},
   "outputs": [
    {
     "name": "stdout",
     "output_type": "stream",
     "text": [
      "Accuracy: 0.967741935483871\n",
      "Confusion Matrix:\n",
      "[[ 1  1]\n",
      " [ 1 59]]\n",
      "Classification Report:\n",
      "              precision    recall  f1-score   support\n",
      "\n",
      "           0       0.50      0.50      0.50         2\n",
      "           1       0.98      0.98      0.98        60\n",
      "\n",
      "    accuracy                           0.97        62\n",
      "   macro avg       0.74      0.74      0.74        62\n",
      "weighted avg       0.97      0.97      0.97        62\n",
      "\n",
      "Top 5 important features:\n",
      "                       Coefficient\n",
      "FATIGUE                   1.482167\n",
      "ALCOHOL CONSUMING         1.351377\n",
      "SWALLOWING DIFFICULTY     1.336653\n",
      "CHRONIC DISEASE           1.281542\n",
      "COUGHING                  1.243056\n"
     ]
    }
   ],
   "source": [
    "# Import necessary libraries\n",
    "import pandas as pd\n",
    "from sklearn.model_selection import train_test_split\n",
    "from sklearn.linear_model import LogisticRegression\n",
    "from sklearn.preprocessing import LabelEncoder\n",
    "from sklearn.metrics import accuracy_score, confusion_matrix, classification_report\n",
    "\n",
    "# Step 1: Read the data from CSV file\n",
    "data = pd.read_csv(r\"C:\\Users\\manohar\\OneDrive\\Desktop\\seshu ml proj\\lung cancer survey.csv\")  # Replace with your file path\n",
    "\n",
    "# Step 2: Preprocess the data\n",
    "# Encode the 'LUNG_CANCER' column (target) and convert categorical 'GENDER'\n",
    "data['LUNG_CANCER'] = LabelEncoder().fit_transform(data['LUNG_CANCER'])\n",
    "X = pd.get_dummies(data.drop(columns='LUNG_CANCER'), drop_first=True)\n",
    "y = data['LUNG_CANCER']\n",
    "\n",
    "# Step 3: Split the dataset into training and testing sets\n",
    "X_train, X_test, y_train, y_test = train_test_split(X, y, test_size=0.2, random_state=42)\n",
    "\n",
    "# Step 4: Train a Logistic Regression model\n",
    "logistic_model = LogisticRegression(max_iter=1000)\n",
    "logistic_model.fit(X_train, y_train)\n",
    "\n",
    "# Step 5: Make predictions and evaluate the model\n",
    "y_pred = logistic_model.predict(X_test)\n",
    "\n",
    "# Step 6: Evaluate the model\n",
    "accuracy = accuracy_score(y_test, y_pred)\n",
    "conf_matrix = confusion_matrix(y_test, y_pred)\n",
    "class_report = classification_report(y_test, y_pred)\n",
    "\n",
    "# Output the evaluation results\n",
    "print(f\"Accuracy: {accuracy}\")\n",
    "print(\"Confusion Matrix:\")\n",
    "print(conf_matrix)\n",
    "print(\"Classification Report:\")\n",
    "print(class_report)\n",
    "\n",
    "# Step 7: Analyze feature importance (coefficients from logistic regression)\n",
    "coefficients = pd.DataFrame(logistic_model.coef_[0], X.columns, columns=['Coefficient']).sort_values(by='Coefficient', ascending=False)\n",
    "print(\"Top 5 important features:\")\n",
    "print(coefficients.head())\n"
   ]
  },
  {
   "cell_type": "code",
   "execution_count": 5,
   "id": "e9e9da75-5319-4729-94df-b353662015f7",
   "metadata": {},
   "outputs": [
    {
     "name": "stdout",
     "output_type": "stream",
     "text": [
      "Model saved successfully!\n"
     ]
    }
   ],
   "source": [
    "import joblib\n",
    "\n",
    "# Save the trained model\n",
    "joblib.dump(logistic_model, 'logistic_regression_model.pkl')\n",
    "print(\"Model saved successfully!\")\n"
   ]
  },
  {
   "cell_type": "code",
   "execution_count": null,
   "id": "bb019286-5ddc-4edd-920d-325ea8c4eceb",
   "metadata": {},
   "outputs": [],
   "source": []
  }
 ],
 "metadata": {
  "kernelspec": {
   "display_name": "Python 3 (ipykernel)",
   "language": "python",
   "name": "python3"
  },
  "language_info": {
   "codemirror_mode": {
    "name": "ipython",
    "version": 3
   },
   "file_extension": ".py",
   "mimetype": "text/x-python",
   "name": "python",
   "nbconvert_exporter": "python",
   "pygments_lexer": "ipython3",
   "version": "3.11.7"
  }
 },
 "nbformat": 4,
 "nbformat_minor": 5
}
